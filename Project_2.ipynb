{
 "cells": [
  {
   "cell_type": "markdown",
   "metadata": {},
   "source": [
    "# Finding the Best Time to Create Posts on Hacker News\n",
    "---\n",
    "[Hacker News](https://news.ycombinator.com/news) is a site started by the startup incubator [Y Combinator](https://www.ycombinator.com/), where user-submitted stories (known as \"posts\") are voted and commented upon, similar to reddit. Hacker News is extremely popular in technology and startup circles, and posts that make it to the top of Hacker News' listings can get hundreds of thousands of visitors as a result.\n"
   ]
  },
  {
   "cell_type": "markdown",
   "metadata": {},
   "source": [
    "We're specifically interested in posts whose titles begin with either `Ask HN` or `Show HN`. \n",
    "\n",
    "Users submit `Ask HN` posts to ask the Hacker News community a specific question. \n",
    "\n",
    "Below are a couple examples:\n",
    "\n",
    "\n",
    ">- Ask HN: What is that one deciding factor that makes a website successful?\n",
    "- Ask HN: How do you monitor server logs\n",
    "- Ask HN: What are the potential pitfalls of stock options?\n",
    "\n",
    "\n",
    "Likewise, users submit `Show HN` posts to show the Hacker News community a project, product, or just generally something interesting. \n",
    "\n",
    "Below are a couple of examples:\n",
    "\n",
    ">- Show HN: A simple library for complicated animations\n",
    "- Show HN: Hangman-game in command line. Knowing words is fun\n",
    "- Show HN: World's first kids art gallery\n",
    "\n",
    "\n",
    "We'll compare these two types of posts to determine the following:\n",
    "\n",
    "\n",
    "- **Do `Ask HN` or `Show HN` receive more comments on average?**\n",
    "- **Do posts created at a certain time receive more comments on average?**\n"
   ]
  },
  {
   "cell_type": "markdown",
   "metadata": {},
   "source": [
    "## About the Dataset Used in This Project\n",
    "---\n",
    "The [data set](https://www.kaggle.com/hacker-news/hacker-news-posts) can be downloaded from this [link](https://www.kaggle.com/hacker-news/hacker-news-posts).\n",
    "\n",
    "This data set is Hacker News posts for 12 months (up to September 26 2016).\n",
    "\n",
    "It includes the following columns:\n",
    "\n",
    "- **title**: title of the post (self explanatory)\n",
    "\n",
    "- **url**: the url of the item being linked to\n",
    "\n",
    "- **num_points**: the number of upvotes the post received\n",
    "\n",
    "- **num_comments**: the number of comments the post received\n",
    "\n",
    "- **author**: the name of the account that made the post\n",
    "\n",
    "- **created_at**: the date and time the post was made (the time zone is Eastern Time in the US)\n",
    "\n"
   ]
  },
  {
   "cell_type": "code",
   "execution_count": 1,
   "metadata": {},
   "outputs": [
    {
     "data": {
      "text/html": [
       "<div>\n",
       "<style scoped>\n",
       "    .dataframe tbody tr th:only-of-type {\n",
       "        vertical-align: middle;\n",
       "    }\n",
       "\n",
       "    .dataframe tbody tr th {\n",
       "        vertical-align: top;\n",
       "    }\n",
       "\n",
       "    .dataframe thead th {\n",
       "        text-align: right;\n",
       "    }\n",
       "</style>\n",
       "<table border=\"1\" class=\"dataframe\">\n",
       "  <thead>\n",
       "    <tr style=\"text-align: right;\">\n",
       "      <th></th>\n",
       "      <th>id</th>\n",
       "      <th>title</th>\n",
       "      <th>url</th>\n",
       "      <th>num_points</th>\n",
       "      <th>num_comments</th>\n",
       "      <th>author</th>\n",
       "      <th>created_at</th>\n",
       "    </tr>\n",
       "  </thead>\n",
       "  <tbody>\n",
       "    <tr>\n",
       "      <td>265909</td>\n",
       "      <td>10376312</td>\n",
       "      <td>Helpcrowd, questions from potential customers ...</td>\n",
       "      <td>http://www.helpcrowd.co/</td>\n",
       "      <td>1</td>\n",
       "      <td>1</td>\n",
       "      <td>cambridge</td>\n",
       "      <td>2015-10-12 18:47:00</td>\n",
       "    </tr>\n",
       "    <tr>\n",
       "      <td>157553</td>\n",
       "      <td>11214655</td>\n",
       "      <td>Franz  a free messaging app</td>\n",
       "      <td>http://meetfranz.com/</td>\n",
       "      <td>2</td>\n",
       "      <td>1</td>\n",
       "      <td>anu_gupta</td>\n",
       "      <td>2016-03-03 02:29:00</td>\n",
       "    </tr>\n",
       "    <tr>\n",
       "      <td>226375</td>\n",
       "      <td>10666951</td>\n",
       "      <td>Crazy Like a Box: Going Public Can Give Startu...</td>\n",
       "      <td>http://www.nytimes.com/2015/12/03/technology/c...</td>\n",
       "      <td>1</td>\n",
       "      <td>0</td>\n",
       "      <td>hvo</td>\n",
       "      <td>2015-12-03 00:33:00</td>\n",
       "    </tr>\n",
       "    <tr>\n",
       "      <td>96869</td>\n",
       "      <td>11724506</td>\n",
       "      <td>Israel's LiveU to beam Summer Olympics events ...</td>\n",
       "      <td>http://www.timesofisrael.com/israels-liveu-to-...</td>\n",
       "      <td>2</td>\n",
       "      <td>0</td>\n",
       "      <td>jonbaer</td>\n",
       "      <td>2016-05-18 18:35:00</td>\n",
       "    </tr>\n",
       "    <tr>\n",
       "      <td>77205</td>\n",
       "      <td>11899729</td>\n",
       "      <td>Machine Intelligence Will Let Us All Work Like...</td>\n",
       "      <td>https://hbr.org/2016/06/machine-intelligence-w...</td>\n",
       "      <td>1</td>\n",
       "      <td>0</td>\n",
       "      <td>scg</td>\n",
       "      <td>2016-06-14 04:14:00</td>\n",
       "    </tr>\n",
       "  </tbody>\n",
       "</table>\n",
       "</div>"
      ],
      "text/plain": [
       "              id                                              title  \\\n",
       "265909  10376312  Helpcrowd, questions from potential customers ...   \n",
       "157553  11214655                        Franz  a free messaging app   \n",
       "226375  10666951  Crazy Like a Box: Going Public Can Give Startu...   \n",
       "96869   11724506  Israel's LiveU to beam Summer Olympics events ...   \n",
       "77205   11899729  Machine Intelligence Will Let Us All Work Like...   \n",
       "\n",
       "                                                      url  num_points  \\\n",
       "265909                           http://www.helpcrowd.co/           1   \n",
       "157553                              http://meetfranz.com/           2   \n",
       "226375  http://www.nytimes.com/2015/12/03/technology/c...           1   \n",
       "96869   http://www.timesofisrael.com/israels-liveu-to-...           2   \n",
       "77205   https://hbr.org/2016/06/machine-intelligence-w...           1   \n",
       "\n",
       "        num_comments     author          created_at  \n",
       "265909             1  cambridge 2015-10-12 18:47:00  \n",
       "157553             1  anu_gupta 2016-03-03 02:29:00  \n",
       "226375             0        hvo 2015-12-03 00:33:00  \n",
       "96869              0    jonbaer 2016-05-18 18:35:00  \n",
       "77205              0        scg 2016-06-14 04:14:00  "
      ]
     },
     "execution_count": 1,
     "metadata": {},
     "output_type": "execute_result"
    }
   ],
   "source": [
    "import pandas as pd\n",
    "import numpy as np\n",
    "\n",
    "hn = pd.read_csv('HN_posts_year_to_Sep_26_2016.csv', parse_dates=['created_at'])\n",
    "\n",
    "### Preview 5 sample records from the dataset.\n",
    "\n",
    "hn.sample(5)"
   ]
  },
  {
   "cell_type": "code",
   "execution_count": 2,
   "metadata": {},
   "outputs": [
    {
     "name": "stdout",
     "output_type": "stream",
     "text": [
      "<class 'pandas.core.frame.DataFrame'>\n",
      "RangeIndex: 293119 entries, 0 to 293118\n",
      "Data columns (total 7 columns):\n",
      "id              293119 non-null int64\n",
      "title           293119 non-null object\n",
      "url             279256 non-null object\n",
      "num_points      293119 non-null int64\n",
      "num_comments    293119 non-null int64\n",
      "author          293119 non-null object\n",
      "created_at      293119 non-null datetime64[ns]\n",
      "dtypes: datetime64[ns](1), int64(3), object(3)\n",
      "memory usage: 15.7+ MB\n"
     ]
    }
   ],
   "source": [
    "### Check the dataset info... it looks good as there's no missing value in any column.\n",
    "\n",
    "hn.info()"
   ]
  },
  {
   "cell_type": "code",
   "execution_count": 3,
   "metadata": {},
   "outputs": [
    {
     "data": {
      "text/plain": [
       "(80401, 7)"
      ]
     },
     "execution_count": 3,
     "metadata": {},
     "output_type": "execute_result"
    }
   ],
   "source": [
    "### Since we're only interested in records with comments, remove rows where number of comments is 0.\n",
    "\n",
    "hn = hn[hn[\"num_comments\"] > 0].copy()\n",
    "hn.shape\n"
   ]
  },
  {
   "cell_type": "markdown",
   "metadata": {},
   "source": [
    "## (1) `Ask HN` and `Show HN` Posts: Which One Receive More Comments on Average?"
   ]
  },
  {
   "cell_type": "code",
   "execution_count": 4,
   "metadata": {},
   "outputs": [],
   "source": [
    "### This is a user-defined function to classify the type of post (i.e. 'Ask HN', 'Show HN', 'Other').\n",
    "\n",
    "def get_type(str):\n",
    "    \n",
    "    if str.lower().startswith(\"ask hn\"):\n",
    "        return \"Ask HN\"\n",
    "    elif str.lower().startswith(\"show hn\"):\n",
    "        return \"Show HN\"\n",
    "    else:\n",
    "        return \"Other\"\n",
    "   "
   ]
  },
  {
   "cell_type": "code",
   "execution_count": 5,
   "metadata": {},
   "outputs": [
    {
     "data": {
      "text/html": [
       "<div>\n",
       "<style scoped>\n",
       "    .dataframe tbody tr th:only-of-type {\n",
       "        vertical-align: middle;\n",
       "    }\n",
       "\n",
       "    .dataframe tbody tr th {\n",
       "        vertical-align: top;\n",
       "    }\n",
       "\n",
       "    .dataframe thead th {\n",
       "        text-align: right;\n",
       "    }\n",
       "</style>\n",
       "<table border=\"1\" class=\"dataframe\">\n",
       "  <thead>\n",
       "    <tr style=\"text-align: right;\">\n",
       "      <th></th>\n",
       "      <th>id</th>\n",
       "      <th>title</th>\n",
       "      <th>url</th>\n",
       "      <th>num_points</th>\n",
       "      <th>num_comments</th>\n",
       "      <th>author</th>\n",
       "      <th>created_at</th>\n",
       "      <th>type</th>\n",
       "    </tr>\n",
       "  </thead>\n",
       "  <tbody>\n",
       "    <tr>\n",
       "      <td>142193</td>\n",
       "      <td>11341553</td>\n",
       "      <td>Show HN: Nestor  Hosted Hubot for Slack</td>\n",
       "      <td>https://www.asknestor.me</td>\n",
       "      <td>49</td>\n",
       "      <td>11</td>\n",
       "      <td>iamclovin</td>\n",
       "      <td>2016-03-23 01:56:00</td>\n",
       "      <td>Show HN</td>\n",
       "    </tr>\n",
       "    <tr>\n",
       "      <td>52577</td>\n",
       "      <td>12111508</td>\n",
       "      <td>How a Danish Town Helped Young Muslims Turn Aw...</td>\n",
       "      <td>http://www.npr.org/sections/health-shots/2016/...</td>\n",
       "      <td>88</td>\n",
       "      <td>87</td>\n",
       "      <td>tim_sw</td>\n",
       "      <td>2016-07-17 19:54:00</td>\n",
       "      <td>Other</td>\n",
       "    </tr>\n",
       "    <tr>\n",
       "      <td>96609</td>\n",
       "      <td>11727106</td>\n",
       "      <td>Theranos voids two years of Edison blood-test ...</td>\n",
       "      <td>http://www.wsj.com/articles/theranos-voids-two...</td>\n",
       "      <td>10</td>\n",
       "      <td>3</td>\n",
       "      <td>whbk</td>\n",
       "      <td>2016-05-19 00:26:00</td>\n",
       "      <td>Other</td>\n",
       "    </tr>\n",
       "    <tr>\n",
       "      <td>117869</td>\n",
       "      <td>11545623</td>\n",
       "      <td>Ask HN: Rough estimate on how long it can take...</td>\n",
       "      <td>NaN</td>\n",
       "      <td>6</td>\n",
       "      <td>5</td>\n",
       "      <td>throwawaywebdev</td>\n",
       "      <td>2016-04-21 21:58:00</td>\n",
       "      <td>Ask HN</td>\n",
       "    </tr>\n",
       "    <tr>\n",
       "      <td>45108</td>\n",
       "      <td>12176410</td>\n",
       "      <td>Show HN: VR demo of living the same minute ove...</td>\n",
       "      <td>https://www.youtube.com/watch?v=_eoMTN509P8</td>\n",
       "      <td>1</td>\n",
       "      <td>1</td>\n",
       "      <td>iamwil</td>\n",
       "      <td>2016-07-27 20:48:00</td>\n",
       "      <td>Show HN</td>\n",
       "    </tr>\n",
       "  </tbody>\n",
       "</table>\n",
       "</div>"
      ],
      "text/plain": [
       "              id                                              title  \\\n",
       "142193  11341553            Show HN: Nestor  Hosted Hubot for Slack   \n",
       "52577   12111508  How a Danish Town Helped Young Muslims Turn Aw...   \n",
       "96609   11727106  Theranos voids two years of Edison blood-test ...   \n",
       "117869  11545623  Ask HN: Rough estimate on how long it can take...   \n",
       "45108   12176410  Show HN: VR demo of living the same minute ove...   \n",
       "\n",
       "                                                      url  num_points  \\\n",
       "142193                           https://www.asknestor.me          49   \n",
       "52577   http://www.npr.org/sections/health-shots/2016/...          88   \n",
       "96609   http://www.wsj.com/articles/theranos-voids-two...          10   \n",
       "117869                                                NaN           6   \n",
       "45108         https://www.youtube.com/watch?v=_eoMTN509P8           1   \n",
       "\n",
       "        num_comments           author          created_at     type  \n",
       "142193            11        iamclovin 2016-03-23 01:56:00  Show HN  \n",
       "52577             87           tim_sw 2016-07-17 19:54:00    Other  \n",
       "96609              3             whbk 2016-05-19 00:26:00    Other  \n",
       "117869             5  throwawaywebdev 2016-04-21 21:58:00   Ask HN  \n",
       "45108              1           iamwil 2016-07-27 20:48:00  Show HN  "
      ]
     },
     "execution_count": 5,
     "metadata": {},
     "output_type": "execute_result"
    }
   ],
   "source": [
    "### Create a new column to indicate the type of post (i.e. 'Ask HN', 'Show HN', 'Other')\n",
    "\n",
    "hn[\"type\"] = hn[\"title\"].apply(get_type)\n",
    "hn.sample(5)\n"
   ]
  },
  {
   "cell_type": "code",
   "execution_count": 6,
   "metadata": {},
   "outputs": [],
   "source": [
    "### Since we're only interested in 'Ask HN' and 'Show HN' posts, let's remove the others.\n",
    "\n",
    "hn_ask_show = hn[hn[\"type\"] != \"Other\"].copy()\n"
   ]
  },
  {
   "cell_type": "code",
   "execution_count": 7,
   "metadata": {},
   "outputs": [
    {
     "data": {
      "text/plain": [
       "Ask HN     6911\n",
       "Show HN    5059\n",
       "Name: type, dtype: int64"
      ]
     },
     "execution_count": 7,
     "metadata": {},
     "output_type": "execute_result"
    }
   ],
   "source": [
    "### The number of 'Ask HN' and 'Show HN' posts.\n",
    "\n",
    "hn_ask_show[\"type\"].value_counts()\n"
   ]
  },
  {
   "cell_type": "code",
   "execution_count": 8,
   "metadata": {},
   "outputs": [
    {
     "data": {
      "image/png": "[encoded data removed]",
      "text/plain": [
       "<Figure size 432x288 with 1 Axes>"
      ]
     },
     "metadata": {},
     "output_type": "display_data"
    }
   ],
   "source": [
    "### Generate bar plot for the number of 'Ask HN' and 'Show HN' posts.\n",
    "\n",
    "%matplotlib inline\n",
    "import matplotlib.pyplot as plt\n",
    "plt.style.use('fivethirtyeight')\n",
    "\n",
    "hn_ask_show[\"type\"].value_counts().plot.bar(title=\"No. of Posts\", rot=0)\n",
    "plt.show()\n"
   ]
  },
  {
   "cell_type": "code",
   "execution_count": 9,
   "metadata": {},
   "outputs": [
    {
     "data": {
      "text/plain": [
       "type\n",
       "Ask HN     13.744176\n",
       "Show HN     9.810832\n",
       "Name: num_comments, dtype: float64"
      ]
     },
     "execution_count": 9,
     "metadata": {},
     "output_type": "execute_result"
    }
   ],
   "source": [
    "### Getting the average number of comments by the type of post.\n",
    "\n",
    "hn_avg_comments = hn_ask_show.groupby(\"type\")[\"num_comments\"].mean().sort_values(ascending=False)\n",
    "hn_avg_comments\n"
   ]
  },
  {
   "cell_type": "code",
   "execution_count": 10,
   "metadata": {},
   "outputs": [
    {
     "data": {
      "image/png": "[encoded data removed]",
      "text/plain": [
       "<Figure size 432x288 with 1 Axes>"
      ]
     },
     "metadata": {},
     "output_type": "display_data"
    }
   ],
   "source": [
    "### Generate bar plot for the average number of comments by the type of post.\n",
    "\n",
    "plt.style.use('fivethirtyeight')\n",
    "hn_avg_comments.plot.bar(title=\"Avg No. of Comments\", legend=False, rot=0)\n",
    "plt.ylabel(\"\")\n",
    "plt.xlabel(\"\")\n",
    "plt.show()\n"
   ]
  },
  {
   "cell_type": "markdown",
   "metadata": {},
   "source": [
    "**Observations : On average, `Ask HN` posts receive more comments than `Show HN` posts.**\n",
    "\n",
    "- about 14 comments for `Ask HN` posts\n",
    "- about 10 comments for `Show HN` posts\n",
    "\n",
    "Next Step: Since `Ask HN` posts are more likely to receive comments, we'll focus our remaining analysis just on these posts.\n",
    "\n"
   ]
  },
  {
   "cell_type": "markdown",
   "metadata": {},
   "source": [
    "## (2) Getting The Average Number of Comments for `Ask HN` Posts by Hour\n",
    "\n",
    "- Calculate the amount of `Ask HN` posts created in each hour of the day, along with the number of comments received.\n",
    "- Calculate the average number of comments `Ask HN` posts receive by hour created."
   ]
  },
  {
   "cell_type": "code",
   "execution_count": 11,
   "metadata": {},
   "outputs": [],
   "source": [
    "hn_ask = hn_ask_show[hn_ask_show[\"type\"] == \"Ask HN\"].copy()\n",
    "\n",
    "### Creating a new column to indicate the hour the 'Ask HN' post is created.\n",
    "\n",
    "hn_ask[\"created_hour\"] = hn_ask[\"created_at\"].dt.hour\n"
   ]
  },
  {
   "cell_type": "code",
   "execution_count": 12,
   "metadata": {},
   "outputs": [
    {
     "data": {
      "text/plain": [
       "15    467\n",
       "18    452\n",
       "19    420\n",
       "16    415\n",
       "21    407\n",
       "17    404\n",
       "20    392\n",
       "14    378\n",
       "13    326\n",
       "22    287\n",
       "23    276\n",
       "12    274\n",
       "11    251\n",
       "0     231\n",
       "2     227\n",
       "1     223\n",
       "10    219\n",
       "3     212\n",
       "8     190\n",
       "4     186\n",
       "6     176\n",
       "9     176\n",
       "5     165\n",
       "7     157\n",
       "Name: created_hour, dtype: int64"
      ]
     },
     "execution_count": 12,
     "metadata": {},
     "output_type": "execute_result"
    }
   ],
   "source": [
    "### Number of 'Ask HN' posts created in each hour of the day.\n",
    "\n",
    "hn_ask[\"created_hour\"].value_counts()\n"
   ]
  },
  {
   "cell_type": "markdown",
   "metadata": {},
   "source": [
    "Looks like most `Ask HN` posts are created between 3pm to 9pm (on US Eastern Time)."
   ]
  },
  {
   "cell_type": "code",
   "execution_count": 13,
   "metadata": {},
   "outputs": [
    {
     "data": {
      "text/plain": [
       "created_hour\n",
       "0      9.857143\n",
       "1      9.367713\n",
       "2     13.198238\n",
       "3     10.160377\n",
       "4     12.688172\n",
       "5     11.139394\n",
       "6      9.017045\n",
       "7     10.095541\n",
       "8     12.431579\n",
       "9      8.392045\n",
       "10    13.757991\n",
       "11    11.143426\n",
       "12    15.452555\n",
       "13    22.223926\n",
       "14    13.153439\n",
       "15    39.668094\n",
       "16    10.761446\n",
       "17    13.730198\n",
       "18    10.789823\n",
       "19     9.414286\n",
       "20    11.382653\n",
       "21    11.056511\n",
       "22    11.749129\n",
       "23     8.322464\n",
       "Name: num_comments, dtype: float64"
      ]
     },
     "execution_count": 13,
     "metadata": {},
     "output_type": "execute_result"
    }
   ],
   "source": [
    "### Getting the average number of comments for 'Ask HN' posts by hour of the day.\n",
    "\n",
    "ask_avg_comments = hn_ask.groupby(\"created_hour\")[\"num_comments\"].mean()\n",
    "ask_avg_comments"
   ]
  },
  {
   "cell_type": "code",
   "execution_count": 14,
   "metadata": {},
   "outputs": [
    {
     "data": {
      "image/png": "[encoded data removed]",
      "text/plain": [
       "<Figure size 432x288 with 1 Axes>"
      ]
     },
     "metadata": {},
     "output_type": "display_data"
    }
   ],
   "source": [
    "### Generate line plot for the average number of comments for Ask HN posts created during the specific hours.\n",
    "\n",
    "#plt.style.use('fivethirtyeight')\n",
    "ask_avg_comments.plot(title=\"Avg No. of Comments Received\\n for 'Ask HN' Posts\", legend=False, rot=0)\n",
    "plt.ylabel(\"\")\n",
    "plt.xlabel(\"Creation Time (Hour of the day)\", fontsize = 12)\n",
    "plt.xticks(list(range(0,24,2)))\n",
    "plt.show()\n"
   ]
  },
  {
   "cell_type": "code",
   "execution_count": 15,
   "metadata": {},
   "outputs": [
    {
     "data": {
      "text/plain": [
       "created_hour\n",
       "15    39.668094\n",
       "13    22.223926\n",
       "12    15.452555\n",
       "10    13.757991\n",
       "17    13.730198\n",
       "Name: num_comments, dtype: float64"
      ]
     },
     "execution_count": 15,
     "metadata": {},
     "output_type": "execute_result"
    }
   ],
   "source": [
    "ask_avg_comments_top5 = hn_ask.groupby(\"created_hour\")[\"num_comments\"].mean().sort_values(ascending=False).head(5)\n",
    "ask_avg_comments_top5"
   ]
  },
  {
   "cell_type": "markdown",
   "metadata": {},
   "source": [
    "**From the result and graph above, we can see that the top 5 hours of the day (on US Eastern Time) where `Ask HN` posts was created and receive the most comments are:**\n",
    "\n",
    "- 15:00 (3pm) -> 39.67 average comments per post\n",
    "- 13:00 (1pm) -> 22.22 average comments per post\n",
    "- 12:00 (12pm) -> 15.45 average comments per post\n",
    "- 10:00 (10am) -> 13.76 average comments per post\n",
    "- 17:00 (5pm) -> 13.73 average comments per post\n",
    "\n",
    "`Ask HN` posts created during these hours seems to receive the most comments."
   ]
  },
  {
   "cell_type": "markdown",
   "metadata": {},
   "source": [
    "### Convert the times to the local time zone\n",
    "\n",
    "The records in this dataset are on US Eastern Time.\n",
    "\n",
    "- US Eastern Time Zone is GMT/UTC - 5h during Standard Time.\n",
    "- US Eastern Time Zone is GMT/UTC - 4h during Daylight Saving Time.\n",
    "- Singapore is GMT/UTC + 8h during Standard Time.\n",
    "\n",
    "US Eastern Time is 13 hours earlier than Singapore during Standard Time.\n",
    "\n",
    "Example: `Tuesday 2/4/2020 1:52 AM EST` = `Tuesday 2/4/2020 2:52 PM UTC+08:00`\n",
    "\n",
    "Therefore, to convert the time to SGT time, we need to add 13 hours."
   ]
  },
  {
   "cell_type": "code",
   "execution_count": 16,
   "metadata": {},
   "outputs": [
    {
     "data": {
      "text/plain": [
       "created_hour_SGT\n",
       "4     39.668094\n",
       "2     22.223926\n",
       "1     15.452555\n",
       "23    13.757991\n",
       "6     13.730198\n",
       "Name: num_comments, dtype: float64"
      ]
     },
     "execution_count": 16,
     "metadata": {},
     "output_type": "execute_result"
    }
   ],
   "source": [
    "import datetime as dt\n",
    "\n",
    "### Creating a new column to indicate the hour the 'Ask HN' post is created at SGT local time.\n",
    "\n",
    "hn_ask[\"created_hour_SGT\"] = hn_ask[\"created_at\"] + dt.timedelta(hours=13)\n",
    "hn_ask[\"created_hour_SGT\"] = hn_ask[\"created_hour_SGT\"].dt.hour\n",
    "\n",
    "### Getting the average number of comments for 'Ask HN' posts by hour, on SGT local time.\n",
    "\n",
    "hn_ask.groupby(\"created_hour_SGT\")[\"num_comments\"].mean().sort_values(ascending=False).head(5)\n"
   ]
  },
  {
   "cell_type": "markdown",
   "metadata": {},
   "source": [
    "**After conversion, we can see that the top 5 hours of the day (on SGT Local Time) where `Ask HN` posts was created and receive the most comments are:**\n",
    "\n",
    "- 04:00 (4am) -> 39.67 average comments per post\n",
    "- 02:00 (2am) -> 22.22 average comments per post\n",
    "- 01:00 (1am) -> 15.45 average comments per post\n",
    "- 23:00 (11pm) -> 13.76 average comments per post\n",
    "- 06:00 (6am) -> 13.73 average comments per post\n",
    "\n",
    "`Ask HN` posts created during these hours seems to receive the most comments."
   ]
  },
  {
   "cell_type": "markdown",
   "metadata": {},
   "source": [
    "## (3) Conclusion\n",
    "\n",
    "Which hours should you create a post during the day to have a higher chance of receiving comments?\n",
    "\n",
    "Well, a post created during the following time would have a higher chance of receiving comments:\n",
    "\n",
    "- Between 10am to 5pm on US Eastern Time (the peak is at 3pm).\n",
    "- Between 11pm to 6am on SGT local time (the peak is at 4am)."
   ]
  }
 ],
 "metadata": {
  "kernelspec": {
   "display_name": "Python 3",
   "language": "python",
   "name": "python3"
  },
  "language_info": {
   "codemirror_mode": {
    "name": "ipython",
    "version": 3
   },
   "file_extension": ".py",
   "mimetype": "text/x-python",
   "name": "python",
   "nbconvert_exporter": "python",
   "pygments_lexer": "ipython3",
   "version": "3.7.4"
  }
 },
 "nbformat": 4,
 "nbformat_minor": 2
}
